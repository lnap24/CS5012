{
  "cells": [
    {
      "cell_type": "markdown",
      "metadata": {
        "id": "tw8Sohm-I-Ke"
      },
      "source": [
        "# Variables, Logic, Loops, Functions, and Classes"
      ]
    },
    {
      "cell_type": "markdown",
      "metadata": {
        "id": "sXsumAjkI-Kf"
      },
      "source": [
        "Python is a **strongly typed** language -- part of a variable definition is its data type. However it is also a **dynamically typed** language -- the variable type is determined during runtime."
      ]
    },
    {
      "cell_type": "code",
      "execution_count": null,
      "metadata": {
        "colab": {
          "base_uri": "https://localhost:8080/"
        },
        "id": "RtMZOFFkI-Kg",
        "outputId": "ef3fb6c3-e7a2-42b6-dbe1-5de2876119c7"
      },
      "outputs": [
        {
          "output_type": "stream",
          "name": "stdout",
          "text": [
            "3 + 3\n",
            "6.0\n",
            "4.0\n",
            "True\n",
            "0\n"
          ]
        }
      ],
      "source": [
        "var1=\"3\" #string\n",
        "var2=3  #int\n",
        "var3=3.0   #float\n",
        "var4=True  #boolean\n",
        "print(var1 + var2) #what is the output?\n",
        "print(\"3 + 3\")\n",
        "print(var2 + var3)\n",
        "print(var3 + var4)\n",
        "print(var4)\n",
        "print(var4 - var4)"
      ]
    },
    {
      "cell_type": "markdown",
      "source": [
        "**Everything in Python is an object**\n"
      ],
      "metadata": {
        "id": "yZYSj9bZJzfX"
      }
    },
    {
      "cell_type": "code",
      "source": [
        "var1 = 12345\n",
        "var2 = var1\n",
        "print(id(var1))\n",
        "print(id(var2))\n"
      ],
      "metadata": {
        "id": "iOzOBOmhJ04L",
        "colab": {
          "base_uri": "https://localhost:8080/"
        },
        "outputId": "8cde118d-8778-41c8-b717-f36332be6412"
      },
      "execution_count": null,
      "outputs": [
        {
          "output_type": "stream",
          "name": "stdout",
          "text": [
            "135338984248912\n",
            "135338984248912\n"
          ]
        }
      ]
    },
    {
      "cell_type": "code",
      "source": [
        "var2 = 54321\n",
        "print(id(var1))\n",
        "print(id(var2))"
      ],
      "metadata": {
        "colab": {
          "base_uri": "https://localhost:8080/"
        },
        "id": "D1_zKHFbers_",
        "outputId": "965e9224-2263-4337-a3c0-5ae3e6d1e3bc"
      },
      "execution_count": null,
      "outputs": [
        {
          "output_type": "stream",
          "name": "stdout",
          "text": [
            "135338984248912\n",
            "135338984249264\n"
          ]
        }
      ]
    },
    {
      "cell_type": "code",
      "source": [
        "var1 = 99999\n",
        "print(id(var1))\n",
        "print(id(var2))"
      ],
      "metadata": {
        "colab": {
          "base_uri": "https://localhost:8080/"
        },
        "id": "V4zkfeJres6u",
        "outputId": "08199127-e0bf-43af-bbaf-e65616775380"
      },
      "execution_count": null,
      "outputs": [
        {
          "output_type": "stream",
          "name": "stdout",
          "text": [
            "135338984249936\n",
            "135338984249264\n"
          ]
        }
      ]
    },
    {
      "cell_type": "code",
      "source": [
        "list1 = [1,2,3,4,5]\n",
        "list2 = list1\n",
        "print(id(list1))\n",
        "print(id(list2))\n",
        "list2.append(6)\n",
        "print(id(list1))\n",
        "print(id(list2))\n",
        "print(list1)"
      ],
      "metadata": {
        "colab": {
          "base_uri": "https://localhost:8080/"
        },
        "id": "yNeN9iDaUVyF",
        "outputId": "7251976e-1ad1-4751-9261-049af4aff5d7"
      },
      "execution_count": null,
      "outputs": [
        {
          "output_type": "stream",
          "name": "stdout",
          "text": [
            "135338984317888\n",
            "135338984317888\n",
            "135338984317888\n",
            "135338984317888\n",
            "[1, 2, 3, 4, 5, 6]\n"
          ]
        }
      ]
    },
    {
      "cell_type": "markdown",
      "metadata": {
        "id": "WlPQakL6I-Kh"
      },
      "source": [
        "**What data types exist in Python?** There are many more than listed here but here are some of the 'key' ones."
      ]
    },
    {
      "cell_type": "code",
      "execution_count": null,
      "metadata": {
        "colab": {
          "base_uri": "https://localhost:8080/"
        },
        "id": "fq11ZZZoI-Kh",
        "outputId": "900ad4e1-4d78-4e97-bb33-c2ec21d621cd"
      },
      "outputs": [
        {
          "output_type": "stream",
          "name": "stdout",
          "text": [
            "Welcome to CS5012\n",
            "<class 'str'>\n",
            "34234234\n",
            "<class 'int'>\n"
          ]
        }
      ],
      "source": [
        "strVar = \"Welcome to CS5012\"         #string\n",
        "intVar = 1                           #int\n",
        "floatVar = 1.0                       #float\n",
        "listVar = [100, 2.5, \"string\"]       #list\n",
        "tupleVar = (2, 6.8, \"string\")        #tuple\n",
        "dictionaryVar = {\"Key\" : \"Value\"}    #dictionary\n",
        "booleanVar = True                    #boolean\n",
        "setVar = {1, 3, 5, 7, 9}             #set\n",
        "noneVar = None                       #none\n",
        "\n",
        "print(strVar)\n",
        "print(type(strVar))\n",
        "strVar = 34234234\n",
        "print(strVar)\n",
        "print(type(strVar))"
      ]
    },
    {
      "cell_type": "markdown",
      "metadata": {
        "id": "nkW6ep6bI-Ki"
      },
      "source": [
        "**Conditionals Review** The syntax and use of conditionals should be familiar to everyone. Here is the exact code snippets shown in class -- feel free to run or adjust the following example to identify the possible outcomes here."
      ]
    },
    {
      "cell_type": "code",
      "execution_count": null,
      "metadata": {
        "colab": {
          "base_uri": "https://localhost:8080/"
        },
        "id": "PrP0697eI-Ki",
        "outputId": "f1b2594c-5bd8-4572-b530-8b40719adc25"
      },
      "outputs": [
        {
          "output_type": "stream",
          "name": "stdout",
          "text": [
            "num is a positive number!\n"
          ]
        }
      ],
      "source": [
        "num = 20\n",
        "if num > 0:\n",
        " print(\"num is a positive number!\")\n",
        "elif num < 0:\n",
        " print(\"num is a negative number!\")\n",
        "else:\n",
        " print(\"num is zero\")"
      ]
    },
    {
      "cell_type": "code",
      "execution_count": null,
      "metadata": {
        "colab": {
          "base_uri": "https://localhost:8080/"
        },
        "id": "7JzcgluAI-Ki",
        "outputId": "33863cb7-00a2-45b3-e0c5-77574edee511"
      },
      "outputs": [
        {
          "output_type": "stream",
          "name": "stdout",
          "text": [
            "A\n"
          ]
        }
      ],
      "source": [
        "grade = 90\n",
        "if grade >= 90:\n",
        " print(\"A\")\n",
        "elif grade >= 80:\n",
        " print(\"B\")\n",
        "elif grade >= 70:\n",
        " print(\"C\")\n",
        "elif grade >= 60:\n",
        " print(\"D\")\n",
        "else:\n",
        " print(\"F\")"
      ]
    },
    {
      "cell_type": "code",
      "source": [
        "grade = 90\n",
        "if grade >= 90:\n",
        " print(\"A\")\n",
        "if grade >= 80:\n",
        " print(\"B\")\n",
        "if grade >= 70:\n",
        " print(\"C\")\n",
        "if grade >= 60:\n",
        " print(\"D\")\n",
        "else:\n",
        " print (\"F\")"
      ],
      "metadata": {
        "colab": {
          "base_uri": "https://localhost:8080/"
        },
        "id": "5LMpth6sVGcd",
        "outputId": "d285093d-8137-4f88-b248-7dc3f4f789f0"
      },
      "execution_count": null,
      "outputs": [
        {
          "output_type": "stream",
          "name": "stdout",
          "text": [
            "A\n",
            "B\n",
            "C\n",
            "D\n"
          ]
        }
      ]
    },
    {
      "cell_type": "markdown",
      "metadata": {
        "id": "1L2IRLcWI-Ki"
      },
      "source": [
        "**Loops Review** There are two kinds of loops in Python. When would you prefer to use one over the other?"
      ]
    },
    {
      "cell_type": "code",
      "execution_count": null,
      "metadata": {
        "id": "sZwBGXM6I-Ki",
        "colab": {
          "base_uri": "https://localhost:8080/"
        },
        "outputId": "bd9b9285-8a56-410f-8d7d-d3ef8ee17e2c"
      },
      "outputs": [
        {
          "output_type": "stream",
          "name": "stdout",
          "text": [
            "0\n",
            "1\n",
            "2\n",
            "3\n",
            "4\n",
            "0\n",
            "1\n",
            "2\n",
            "3\n",
            "4\n"
          ]
        }
      ],
      "source": [
        "#for loop\n",
        "for i in range(5):\n",
        " print(i)\n",
        "count = 0\n",
        "\n",
        "#while loop\n",
        "while(count <5):\n",
        " print(count)\n",
        " count+=1"
      ]
    },
    {
      "cell_type": "markdown",
      "metadata": {
        "id": "ul0gLugnI-Kj"
      },
      "source": [
        "There are several keywords worth knowing in regards to Python loops. What are they and what do they do? What does this code block print (decide before running!)"
      ]
    },
    {
      "cell_type": "code",
      "execution_count": null,
      "metadata": {
        "id": "CwparoAMI-Kj",
        "outputId": "c06afc9c-bd28-4123-a124-544968029645",
        "colab": {
          "base_uri": "https://localhost:8080/"
        }
      },
      "outputs": [
        {
          "output_type": "stream",
          "name": "stdout",
          "text": [
            "count: 11\n"
          ]
        }
      ],
      "source": [
        "count = 0\n",
        "\n",
        "while(True):\n",
        "    if count % 2 == 0:\n",
        "        count+=1\n",
        "    else:\n",
        "        pass\n",
        "\n",
        "    if count > 10:\n",
        "        break\n",
        "    else:\n",
        "        count+=1\n",
        "        continue\n",
        "        count+=1\n",
        "    print('count: {}'.format(count))\n",
        "\n",
        "\n",
        "print('count: {}'.format(count))\n"
      ]
    },
    {
      "cell_type": "markdown",
      "metadata": {
        "id": "gqpeG4lRI-Kj"
      },
      "source": [
        "**Functions Review** Almost every programming assessment in the class will be built around one or more functions. So let's review them!"
      ]
    },
    {
      "cell_type": "code",
      "execution_count": null,
      "metadata": {
        "id": "u21jrTvUI-Kj",
        "colab": {
          "base_uri": "https://localhost:8080/"
        },
        "outputId": "9e1ffe31-e073-41f9-fedc-fe234d57e3a0"
      },
      "outputs": [
        {
          "output_type": "stream",
          "name": "stdout",
          "text": [
            "Square: 9\n"
          ]
        }
      ],
      "source": [
        "# function definition\n",
        "def find_square(num):\n",
        "    result = num * num\n",
        "    return result\n",
        "\n",
        "# function call\n",
        "square = find_square(3)\n",
        "\n",
        "print('Square:', square)"
      ]
    },
    {
      "cell_type": "markdown",
      "metadata": {
        "id": "lPF3UZmyI-Kj"
      },
      "source": [
        "Variables in Python have scope and may only exist inside a function. What variables are *local* and what arent in the following example? Do you know why?"
      ]
    },
    {
      "cell_type": "code",
      "execution_count": null,
      "metadata": {
        "id": "p1vjD85rI-Kj",
        "colab": {
          "base_uri": "https://localhost:8080/"
        },
        "outputId": "188563c9-ae3d-45e2-aa89-d4cae049b1ce"
      },
      "outputs": [
        {
          "output_type": "stream",
          "name": "stdout",
          "text": [
            "10\n",
            "Hello!\n"
          ]
        }
      ],
      "source": [
        "def scopeFun(inNum, inStr):\n",
        "     inNum += 100\n",
        "     inStr = \"Welcome to CS5012\"\n",
        "     return inNum,inStr\n",
        "\n",
        "inNum = 10\n",
        "inStr = \"Hello!\"\n",
        "scopeFun(inNum,inStr)\n",
        "print (inNum)\n",
        "print (inStr)"
      ]
    },
    {
      "cell_type": "code",
      "source": [
        "def scopeFun(inList):\n",
        "     inList.append(100)\n",
        "     inList[0] = 99999\n",
        "     return inList\n",
        "\n",
        "inList = [1,2,3,4,5]\n",
        "print (inList)\n",
        "scopeFun(inList)\n",
        "print (inList)"
      ],
      "metadata": {
        "id": "LXM0vGSncDxy",
        "colab": {
          "base_uri": "https://localhost:8080/"
        },
        "outputId": "7328878d-6d49-463a-ff96-d4aa7b96ce8b"
      },
      "execution_count": null,
      "outputs": [
        {
          "output_type": "stream",
          "name": "stdout",
          "text": [
            "[1, 2, 3, 4, 5]\n",
            "[99999, 2, 3, 4, 5, 100]\n"
          ]
        }
      ]
    },
    {
      "cell_type": "code",
      "source": [
        "def scopeFun(inList):\n",
        "     inList = [100,200,300]\n",
        "     return inList\n",
        "\n",
        "inList = [1,2,3,4,5]\n",
        "print (inList)\n",
        "scopeFun(inList)\n",
        "print (inList)"
      ],
      "metadata": {
        "id": "qrkk6TuucG1X",
        "colab": {
          "base_uri": "https://localhost:8080/"
        },
        "outputId": "bb75cb68-fadd-4a34-8a39-16656da4bd65"
      },
      "execution_count": null,
      "outputs": [
        {
          "output_type": "stream",
          "name": "stdout",
          "text": [
            "[1, 2, 3, 4, 5]\n",
            "[1, 2, 3, 4, 5]\n"
          ]
        }
      ]
    },
    {
      "cell_type": "markdown",
      "source": [
        "**Here is an example of a Python Class**"
      ],
      "metadata": {
        "id": "kAtSSXq2cmoy"
      }
    },
    {
      "cell_type": "code",
      "source": [
        "class Student:\n",
        "    # Class attribute\n",
        "    num_students = 0\n",
        "    school_name = \"XYZ School\"\n",
        "    # Constructor method to initialize the student object\n",
        "    def __init__(self, name, student_id, major, gpa):\n",
        "        self.name = name               # Instance attribute: name of the student\n",
        "        self.student_id = student_id   # Instance attribute: student ID\n",
        "        self.major = major             # Instance attribute: student's major\n",
        "        self.gpa = gpa                 # Instance attribute: student's GPA\n",
        "\n",
        "    # Method to simulate the student introducing themselves\n",
        "    def introduce(self):\n",
        "        print(f\"Hello, my name is {self.name}. I'm majoring in {self.major}.\")\n",
        "\n",
        "    # Method to update the student's GPA\n",
        "    def update_gpa(self, new_gpa):\n",
        "        self.gpa = new_gpa\n",
        "        print(f\"{self.name}'s new GPA is {self.gpa}.\")\n",
        "\n",
        "    # Method to display the student's details\n",
        "    def display_info(self):\n",
        "        print(f\"Name: {self.name}\")\n",
        "        print(f\"Student ID: {self.student_id}\")\n",
        "        print(f\"Major: {self.major}\")\n",
        "        print(f\"GPA: {self.gpa}\")\n",
        "        print(f\"School: {Student.school_name}\")\n",
        "    def incrementStudent(self):\n",
        "         Student.num_students+=1\n",
        "    def studentCount(self):\n",
        "         print(\"student Count = \" ,Student.num_students)"
      ],
      "metadata": {
        "id": "KlKy_EDAcvdl"
      },
      "execution_count": null,
      "outputs": []
    },
    {
      "cell_type": "code",
      "source": [
        "# Creating objects (instances) of the Student class\n",
        "student1 = Student(\"Alice\", \"S12345\", \"Computer Science\", 3.8)\n",
        "#updating class attribute\n",
        "student1.incrementStudent()\n",
        "student1.studentCount()\n",
        "#updating class attribute\n",
        "student2 = Student(\"Bob\", \"S67890\", \"Mathematics\", 3.5)\n",
        "student1.incrementStudent()\n",
        "student1.studentCount()\n",
        "\n",
        "\n",
        "# Accessing attributes and calling methods\n",
        "student1.introduce()  # Output: Hello, my name is Alice. I'm majoring in Computer Science.\n",
        "student1.display_info()\n",
        "# Output:\n",
        "# Name: Alice\n",
        "# Student ID: S12345\n",
        "# Major: Computer Science\n",
        "# GPA: 3.8\n",
        "\n",
        "student2.introduce()  # Output: Hello, my name is Bob. I'm majoring in Mathematics.\n",
        "student2.update_gpa(3.9)  # Output: Bob's new GPA is 3.9.\n",
        "student2.display_info()"
      ],
      "metadata": {
        "colab": {
          "base_uri": "https://localhost:8080/"
        },
        "id": "cY5wqymLdQfO",
        "outputId": "65e9784b-57d6-41fe-a842-1cdaba626e9b"
      },
      "execution_count": null,
      "outputs": [
        {
          "output_type": "stream",
          "name": "stdout",
          "text": [
            "student Count =  1\n",
            "student Count =  2\n",
            "Hello, my name is Alice. I'm majoring in Computer Science.\n",
            "Name: Alice\n",
            "Student ID: S12345\n",
            "Major: Computer Science\n",
            "GPA: 3.8\n",
            "School: XYZ School\n",
            "Hello, my name is Bob. I'm majoring in Mathematics.\n",
            "Bob's new GPA is 3.9.\n",
            "Name: Bob\n",
            "Student ID: S67890\n",
            "Major: Mathematics\n",
            "GPA: 3.9\n",
            "School: XYZ School\n"
          ]
        }
      ]
    },
    {
      "cell_type": "markdown",
      "metadata": {
        "id": "ToqsPrWII-Kj"
      },
      "source": [
        "**End of Class Exercise** Time permitting, complete what is left of the in-class exercise. There are many ways to code this so consider what approach makes most sense to you."
      ]
    },
    {
      "cell_type": "code",
      "source": [
        "#getTotalTime calculate the difference between two times given in HH:MM:SS format in minutes\n",
        "#INPUT:\n",
        "# integer represeting the time in HH:MM:SS format\n",
        "#OUTPUT:\n",
        "#  difference between two times in minutes\n",
        "def getTotalTime(start_time, end_time):\n",
        "    pass\n",
        "\n",
        "start_time = \"14:30:00\"\n",
        "stop_time = \"15:15:30\"\n",
        "print(f\"Difference in minutes: {getTotalTime(start_time, stop_time)}\") #should be 45.5 minutes"
      ],
      "metadata": {
        "colab": {
          "base_uri": "https://localhost:8080/"
        },
        "id": "MVC3m0DNZMdw",
        "outputId": "91499ad4-d205-400e-c8e1-c109c203ac04"
      },
      "execution_count": null,
      "outputs": [
        {
          "output_type": "stream",
          "name": "stdout",
          "text": [
            "Difference in minutes: None\n"
          ]
        }
      ]
    },
    {
      "cell_type": "code",
      "execution_count": null,
      "metadata": {
        "id": "a52LrpZ_I-Kj"
      },
      "outputs": [],
      "source": [
        "\"\"\"\n",
        "Game Rules\n",
        "Four Matching Symbols/States: All four symbols/States are the same. Payout = $500.\n",
        "Four of a Color: This implies all symbols are of the same color. Assuming Diamonds and Hearts are one color, and Spades and Clubs are another color. Payout = $100.\n",
        "Three Matching Symbols in a Row: Three symbols are the same, and they are adjacent. Payout = $50.\n",
        "One of Each Symbol: The symbols are 0, 1, 2, and 3, each appearing exactly once. Payout = $10.\n",
        "\"\"\"\n",
        "\n",
        "#INPUT:\n",
        "# Four integers (Diamond = 0, Heart = 1, Spade = 2, Club = 3) defining a state\n",
        "#OUTPUT:\n",
        "# An integer storing the amount of money won at slot machine for that state\n",
        "def slotMachine(c1, c2, c3, c4):\n",
        "    pass\n",
        "\n",
        "# Here are some example outputs to match!\n",
        "print(slotMachine(0,0,0,0)) # Should be 500\n",
        "print(slotMachine(1,0,0,0)) # Should be 100\n",
        "print(slotMachine(0,0,0,2)) # Should be 50\n",
        "print(slotMachine(0,1,0,1)) # Should be 100\n",
        "print(slotMachine(0,1,3,1)) # Should be 0\n",
        "print(slotMachine(2,0,3,1)) # Should be 10"
      ]
    }
  ],
  "metadata": {
    "interpreter": {
      "hash": "31f2aee4e71d21fbe5cf8b01ff0e069b9275f58929596ceb00d14d90e3e16cd6"
    },
    "kernelspec": {
      "display_name": "Python 3.8.2 64-bit",
      "language": "python",
      "name": "python3"
    },
    "language_info": {
      "codemirror_mode": {
        "name": "ipython",
        "version": 3
      },
      "file_extension": ".py",
      "mimetype": "text/x-python",
      "name": "python",
      "nbconvert_exporter": "python",
      "pygments_lexer": "ipython3",
      "version": "3.11.1"
    },
    "orig_nbformat": 4,
    "colab": {
      "provenance": []
    }
  },
  "nbformat": 4,
  "nbformat_minor": 0
}